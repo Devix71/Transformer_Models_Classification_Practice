{
 "cells": [
  {
   "cell_type": "markdown",
   "metadata": {},
   "source": [
    "## Loading the data (from 1.0)"
   ]
  },
  {
   "cell_type": "code",
   "execution_count": 1,
   "metadata": {},
   "outputs": [],
   "source": [
    "from pycocotools.coco import COCO"
   ]
  },
  {
   "cell_type": "code",
   "execution_count": 2,
   "metadata": {},
   "outputs": [
    {
     "name": "stdout",
     "output_type": "stream",
     "text": [
      "loading annotations into memory...\n",
      "Done (t=19.29s)\n",
      "creating index...\n",
      "index created!\n"
     ]
    }
   ],
   "source": [
    "coco = COCO(annotation_file=\"/scratch/lt2316-h18-resources/coco/annotations/instances_train2017.json\")"
   ]
  },
  {
   "cell_type": "code",
   "execution_count": 3,
   "metadata": {},
   "outputs": [],
   "source": [
    "cat_cat = coco.getCatIds(catNms=\"cat\")\n",
    "horse_cat = coco.getCatIds(catNms=\"horse\")\n",
    "sheep_cat = coco.getCatIds(catNms=\"sheep\")\n",
    "bird_cat = coco.getCatIds(catNms=\"bird\")\n",
    "dog_cat = coco.getCatIds(catNms=\"dog\")\n",
    "bear_cat = coco.getCatIds(catNms=\"bear\")"
   ]
  },
  {
   "cell_type": "code",
   "execution_count": 4,
   "metadata": {},
   "outputs": [
    {
     "data": {
      "text/plain": [
       "([17], [19], [23])"
      ]
     },
     "execution_count": 4,
     "metadata": {},
     "output_type": "execute_result"
    }
   ],
   "source": [
    "cat_cat, horse_cat, bear_cat"
   ]
  },
  {
   "cell_type": "code",
   "execution_count": 5,
   "metadata": {},
   "outputs": [],
   "source": [
    "cat_imgs = coco.getImgIds(catIds=cat_cat)\n",
    "horse_imgs = coco.getImgIds(catIds=horse_cat)\n",
    "sheep_imgs = coco.getImgIds(catIds=sheep_cat)\n",
    "bird_imgs = coco.getImgIds(catIds=bird_cat)\n",
    "dog_imgs = coco.getImgIds(catIds=dog_cat)\n",
    "bear_imgs = coco.getImgIds(catIds=bear_cat)"
   ]
  },
  {
   "cell_type": "code",
   "execution_count": 6,
   "metadata": {},
   "outputs": [
    {
     "data": {
      "text/plain": [
       "(4114, 960)"
      ]
     },
     "execution_count": 6,
     "metadata": {},
     "output_type": "execute_result"
    }
   ],
   "source": [
    "len(cat_imgs), len(bear_imgs)"
   ]
  },
  {
   "cell_type": "code",
   "execution_count": 7,
   "metadata": {},
   "outputs": [],
   "source": [
    "import random"
   ]
  },
  {
   "cell_type": "code",
   "execution_count": 8,
   "metadata": {},
   "outputs": [],
   "source": [
    "random.shuffle(cat_imgs)\n",
    "cat_imgs_train = cat_imgs[:2000]\n",
    "cat_imgs_test = cat_imgs[2000:2500]\n",
    "\n",
    "random.shuffle(horse_imgs)\n",
    "horse_imgs_train = horse_imgs[:2000]\n",
    "horse_imgs_test = horse_imgs[2000:2500]\n",
    "\n",
    "\n",
    "\n",
    "random.shuffle(sheep_imgs)\n",
    "sheep_imgs_train = sheep_imgs[:1223]\n",
    "sheep_imgs_test = sheep_imgs[1223:1529]\n",
    "\n",
    "\n",
    "random.shuffle(bird_imgs)\n",
    "bird_imgs_train = bird_imgs[:2200]\n",
    "bird_imgs_test = bird_imgs[2200:2640]\n",
    "\n",
    "\n",
    "random.shuffle(dog_imgs)\n",
    "dog_imgs_train = dog_imgs[:2200]\n",
    "dog_imgs_test = dog_imgs[2200:2640]\n",
    "\n",
    "\n",
    "random.shuffle(bear_imgs)\n",
    "bear_imgs_train = bear_imgs[:768]\n",
    "bear_imgs_test = bear_imgs[768:960]\n"
   ]
  },
  {
   "cell_type": "code",
   "execution_count": 10,
   "metadata": {},
   "outputs": [
    {
     "data": {
      "text/plain": [
       "(2000, 500)"
      ]
     },
     "execution_count": 10,
     "metadata": {},
     "output_type": "execute_result"
    }
   ],
   "source": [
    "len(cat_imgs_train), len(cat_imgs_test)"
   ]
  },
  {
   "cell_type": "code",
   "execution_count": 11,
   "metadata": {},
   "outputs": [
    {
     "data": {
      "text/plain": [
       "0"
      ]
     },
     "execution_count": 11,
     "metadata": {},
     "output_type": "execute_result"
    }
   ],
   "source": [
    "len([x for x in cat_imgs[0:600] if x in horse_imgs[0:600]])"
   ]
  },
  {
   "cell_type": "code",
   "execution_count": 9,
   "metadata": {},
   "outputs": [],
   "source": [
    "cat_meta_train = coco.loadImgs(ids=cat_imgs_train)\n",
    "cat_meta_test = coco.loadImgs(ids=cat_imgs_test)\n",
    "horse_meta_train = coco.loadImgs(ids=horse_imgs_train)\n",
    "horse_meta_test = coco.loadImgs(ids=horse_imgs_test)\n",
    "\n",
    "\n",
    "sheep_meta_train = coco.loadImgs(ids=sheep_imgs_train)\n",
    "sheep_meta_test = coco.loadImgs(ids=sheep_imgs_test)\n",
    "bird_meta_train = coco.loadImgs(ids=bird_imgs_train)\n",
    "bird_meta_test = coco.loadImgs(ids=bird_imgs_test)\n",
    "\n",
    "\n",
    "dog_meta_train = coco.loadImgs(ids=dog_imgs_train)\n",
    "dog_meta_test = coco.loadImgs(ids=dog_imgs_test)\n",
    "bear_meta_train = coco.loadImgs(ids=bear_imgs_train)\n",
    "bear_meta_test = coco.loadImgs(ids=bear_imgs_test)"
   ]
  },
  {
   "cell_type": "code",
   "execution_count": 10,
   "metadata": {},
   "outputs": [],
   "source": [
    "import matplotlib.pyplot as plt\n",
    "import matplotlib.image as mpimg"
   ]
  },
  {
   "cell_type": "code",
   "execution_count": 11,
   "metadata": {},
   "outputs": [],
   "source": [
    "%matplotlib inline"
   ]
  },
  {
   "cell_type": "code",
   "execution_count": 12,
   "metadata": {},
   "outputs": [],
   "source": [
    "from PIL import Image"
   ]
  },
  {
   "cell_type": "code",
   "execution_count": 13,
   "metadata": {},
   "outputs": [],
   "source": [
    "import numpy as np"
   ]
  },
  {
   "cell_type": "code",
   "execution_count": 14,
   "metadata": {},
   "outputs": [],
   "source": [
    "def get_data(meta, datadir=\"/scratch/lt2316-h18-resources/coco/train2017\"):\n",
    "    return [(x['file_name'], Image.open(\"{}/{}\".format(datadir, x['file_name'])).resize((100,100))) for x in meta]"
   ]
  },
  {
   "cell_type": "code",
   "execution_count": 15,
   "metadata": {},
   "outputs": [],
   "source": [
    "cat_data_train = get_data(cat_meta_train)\n",
    "horse_data_train = get_data(horse_meta_train)\n",
    "cat_data_test = get_data(cat_meta_test)\n",
    "horse_data_test = get_data(horse_meta_test)\n",
    "\n",
    "bird_data_train = get_data(bird_meta_train)\n",
    "sheep_data_train = get_data(sheep_meta_train)\n",
    "bird_data_test = get_data(bird_meta_test)\n",
    "sheep_data_test = get_data(sheep_meta_test)\n",
    "\n",
    "bear_data_train = get_data(bear_meta_train)\n",
    "dog_data_train = get_data(dog_meta_train)\n",
    "bear_data_test = get_data(bear_meta_test)\n",
    "dog_data_test = get_data(dog_meta_test)"
   ]
  },
  {
   "cell_type": "code",
   "execution_count": 16,
   "metadata": {},
   "outputs": [],
   "source": [
    "import pandas as pd"
   ]
  },
  {
   "cell_type": "code",
   "execution_count": 17,
   "metadata": {},
   "outputs": [],
   "source": [
    "cat_data_train_df = pd.DataFrame(cat_data_train)\n",
    "cat_data_train_df['class'] = 'cat'\n",
    "\n",
    "horse_data_train_df = pd.DataFrame(horse_data_train)\n",
    "horse_data_train_df['class'] = 'horse'\n",
    "\n",
    "cat_data_test_df = pd.DataFrame(cat_data_test)\n",
    "cat_data_test_df['class'] = 'cat'\n",
    "\n",
    "horse_data_test_df = pd.DataFrame(horse_data_test)\n",
    "horse_data_test_df['class'] = 'horse'\n",
    "\n",
    "\n",
    "sheep_data_train_df = pd.DataFrame(sheep_data_train)\n",
    "sheep_data_train_df['class'] = 'sheep'\n",
    "\n",
    "bird_data_train_df = pd.DataFrame(bird_data_train)\n",
    "bird_data_train_df['class'] = 'bird'\n",
    "\n",
    "sheep_data_test_df = pd.DataFrame(sheep_data_test)\n",
    "sheep_data_test_df['class'] = 'sheep'\n",
    "\n",
    "bird_data_test_df = pd.DataFrame(bird_data_test)\n",
    "bird_data_test_df['class'] = 'bird'\n",
    "\n",
    "\n",
    "\n",
    "dog_data_train_df = pd.DataFrame(dog_data_train)\n",
    "dog_data_train_df['class'] = 'dog'\n",
    "\n",
    "bear_data_train_df = pd.DataFrame(bear_data_train)\n",
    "bear_data_train_df['class'] = 'bear'\n",
    "\n",
    "dog_data_test_df = pd.DataFrame(dog_data_test)\n",
    "dog_data_test_df['class'] = 'dog'\n",
    "\n",
    "bear_data_test_df = pd.DataFrame(bear_data_test)\n",
    "bear_data_test_df['class'] = 'bear'\n"
   ]
  },
  {
   "cell_type": "code",
   "execution_count": 18,
   "metadata": {},
   "outputs": [],
   "source": [
    "train_df = pd.concat([cat_data_train_df, horse_data_train_df,dog_data_train_df, sheep_data_train_df,bird_data_train_df, bear_data_train_df])\n",
    "test_df = pd.concat([cat_data_test_df, horse_data_test_df,sheep_data_test_df, bird_data_test_df,dog_data_test_df, bear_data_test_df])"
   ]
  },
  {
   "cell_type": "code",
   "execution_count": 19,
   "metadata": {},
   "outputs": [],
   "source": [
    "label_mapping = {'cat': 0, 'horse': 1, 'dog': 2, 'sheep': 3, 'bird': 4, 'bear': 5}"
   ]
  },
  {
   "cell_type": "code",
   "execution_count": 20,
   "metadata": {},
   "outputs": [],
   "source": [
    "train_y = [label_mapping.get(x, -1) for x in train_df['class']]"
   ]
  },
  {
   "cell_type": "code",
   "execution_count": 125,
   "metadata": {},
   "outputs": [],
   "source": [
    "test_y = [label_mapping.get(x, -1) for x in test_df['class']]"
   ]
  },
  {
   "cell_type": "code",
   "execution_count": 22,
   "metadata": {},
   "outputs": [],
   "source": [
    "train_df['imgs'] = train_df[1].apply(lambda x: x.convert('RGB'))"
   ]
  },
  {
   "cell_type": "code",
   "execution_count": 23,
   "metadata": {},
   "outputs": [],
   "source": [
    "train_X = np.array([np.array(x) for x in train_df['imgs']])"
   ]
  },
  {
   "cell_type": "code",
   "execution_count": 24,
   "metadata": {},
   "outputs": [
    {
     "data": {
      "text/plain": [
       "(10391, 100, 100, 3)"
      ]
     },
     "execution_count": 24,
     "metadata": {},
     "output_type": "execute_result"
    }
   ],
   "source": [
    "train_X.shape"
   ]
  },
  {
   "cell_type": "code",
   "execution_count": 25,
   "metadata": {},
   "outputs": [],
   "source": [
    "test_df['imgs'] = test_df[1].apply(lambda x: x.convert('RGB'))"
   ]
  },
  {
   "cell_type": "code",
   "execution_count": 26,
   "metadata": {},
   "outputs": [],
   "source": [
    "test_X = np.array([np.array(x) for x in test_df['imgs']])"
   ]
  },
  {
   "cell_type": "code",
   "execution_count": 27,
   "metadata": {},
   "outputs": [
    {
     "data": {
      "text/plain": [
       "(2378, 100, 100, 3)"
      ]
     },
     "execution_count": 27,
     "metadata": {},
     "output_type": "execute_result"
    }
   ],
   "source": [
    "test_X.shape"
   ]
  },
  {
   "cell_type": "markdown",
   "metadata": {},
   "source": [
    "## Scale and standardize the data"
   ]
  },
  {
   "cell_type": "code",
   "execution_count": 29,
   "metadata": {},
   "outputs": [],
   "source": [
    "from sklearn.preprocessing import StandardScaler"
   ]
  },
  {
   "cell_type": "code",
   "execution_count": 30,
   "metadata": {},
   "outputs": [],
   "source": [
    "all_X = np.concatenate((train_X, test_X))"
   ]
  },
  {
   "cell_type": "code",
   "execution_count": 31,
   "metadata": {},
   "outputs": [
    {
     "data": {
      "text/plain": [
       "(12769, 100, 100, 3)"
      ]
     },
     "execution_count": 31,
     "metadata": {},
     "output_type": "execute_result"
    }
   ],
   "source": [
    "all_X.shape"
   ]
  },
  {
   "cell_type": "markdown",
   "metadata": {},
   "source": [
    "Changing how the data is caled in order to account for the new multiclass focus"
   ]
  },
  {
   "cell_type": "code",
   "execution_count": 35,
   "metadata": {},
   "outputs": [],
   "source": [
    "# Calculating the number of features for each sample\n",
    "num_features = all_X.shape[1] * all_X.shape[2] * all_X.shape[3]  # 100 * 100 * 3\n",
    "\n",
    "# Reshaping the data to two dimensions: number of samples by number of features\n",
    "all_X_reshaped = all_X.reshape(-1, num_features)\n",
    "\n",
    "\n",
    "scaler = StandardScaler()\n",
    "all_X_scaled = scaler.fit_transform(all_X_reshaped)\n",
    "\n",
    "# Reshpaing to original 4 dimensional shape\n",
    "all_X_scaled = all_X_scaled.reshape(all_X.shape)"
   ]
  },
  {
   "cell_type": "code",
   "execution_count": 36,
   "metadata": {},
   "outputs": [
    {
     "data": {
      "text/plain": [
       "(12769, 100, 100, 3)"
      ]
     },
     "execution_count": 36,
     "metadata": {},
     "output_type": "execute_result"
    }
   ],
   "source": [
    "all_X_scaled.shape"
   ]
  },
  {
   "cell_type": "code",
   "execution_count": 37,
   "metadata": {},
   "outputs": [
    {
     "data": {
      "text/plain": [
       "array([[[[ 0.46506552, -0.25418274, -0.71777918],\n",
       "         [ 0.46683374, -0.45548347, -0.8515056 ],\n",
       "         [ 0.23881532, -0.37391176, -0.78797084],\n",
       "         ...,\n",
       "         [ 1.19604513,  0.65400319,  0.14627984],\n",
       "         [ 1.10880814,  0.55481792,  0.07921534],\n",
       "         [ 1.24336733,  0.75579818,  0.27573411]],\n",
       "\n",
       "        [[ 0.45042472, -0.28772511, -0.74914765],\n",
       "         [ 0.52972542, -0.44100759, -0.82485991],\n",
       "         [ 0.3554258 , -0.27526772, -0.73544841],\n",
       "         ...,\n",
       "         [ 1.30575727,  0.77246405,  0.30207867],\n",
       "         [ 1.14684446,  0.56271239,  0.09893898],\n",
       "         [ 1.20131352,  0.6714782 ,  0.19787467]],\n",
       "\n",
       "        [[ 0.52237992, -0.2049015 , -0.67129617],\n",
       "         [ 0.57402687, -0.41539204, -0.79961438],\n",
       "         [ 0.51009797, -0.16546053, -0.60840017],\n",
       "         ...,\n",
       "         [ 1.39510492,  0.91532147,  0.40675778],\n",
       "         [ 1.39850053,  0.90679639,  0.4119087 ],\n",
       "         [ 1.30412008,  0.78482587,  0.31320527]],\n",
       "\n",
       "        ...,\n",
       "\n",
       "        [[-0.68866399, -1.14095166, -1.24699387],\n",
       "         [-0.69246082, -1.14637442, -1.24638034],\n",
       "         [-0.72067132, -1.16220232, -1.2584736 ],\n",
       "         ...,\n",
       "         [ 0.51183137, -0.53943111, -0.85605378],\n",
       "         [ 0.2170778 , -0.56532501, -0.86612258],\n",
       "         [-0.37000599, -0.8762051 , -1.01989379]],\n",
       "\n",
       "        [[-0.66753019, -1.11867381, -1.24180507],\n",
       "         [-0.73134775, -1.13812558, -1.25803065],\n",
       "         [-0.74307932, -1.1834816 , -1.25298245],\n",
       "         ...,\n",
       "         [ 0.31703232, -0.79800232, -0.95510272],\n",
       "         [ 0.45986483, -0.41041321, -0.76383186],\n",
       "         [ 0.54695438, -0.23670889, -0.65546204]],\n",
       "\n",
       "        [[-0.66915464, -1.10201457, -1.22920649],\n",
       "         [-0.69975909, -1.14947292, -1.25963282],\n",
       "         [-0.75593486, -1.16117601, -1.25319868],\n",
       "         ...,\n",
       "         [ 0.45273966, -0.57444156, -0.78391767],\n",
       "         [ 0.26003357, -0.75425332, -0.94838679],\n",
       "         [ 0.69730888, -0.12942809, -0.58175213]]],\n",
       "\n",
       "\n",
       "       [[[ 0.08673346, -0.52234814, -1.12347673],\n",
       "         [ 0.19632246, -0.44205687, -1.13426568],\n",
       "         [ 0.26588566, -0.40080524, -1.0706691 ],\n",
       "         ...,\n",
       "         [ 0.55568454,  0.26236952, -0.24807715],\n",
       "         [ 0.71428054,  0.43345539, -0.09315408],\n",
       "         [ 0.67213017,  0.39188406, -0.11873528]],\n",
       "\n",
       "        [[ 0.16432176, -0.46348495, -1.13267952],\n",
       "         [ 0.21601484, -0.42746106, -1.12169777],\n",
       "         [ 0.25992208, -0.39728062, -1.09428317],\n",
       "         ...,\n",
       "         [ 0.63316519,  0.37766437, -0.1443356 ],\n",
       "         [ 0.75049731,  0.48139605, -0.04941285],\n",
       "         [ 0.70974853,  0.44135903, -0.07434957]],\n",
       "\n",
       "        [[ 0.23507059, -0.43563666, -1.11732235],\n",
       "         [ 0.23084233, -0.42901598, -1.13468106],\n",
       "         [ 0.29035691, -0.38355949, -1.1046996 ],\n",
       "         ...,\n",
       "         [ 0.73266108,  0.46283763, -0.04264218],\n",
       "         [ 0.76593484,  0.49713711, -0.0238535 ],\n",
       "         [ 0.76855462,  0.49900839, -0.02272133]],\n",
       "\n",
       "        ...,\n",
       "\n",
       "        [[-0.09017202, -0.35506004, -0.75400923],\n",
       "         [ 0.08071849, -0.2281367 , -0.58184837],\n",
       "         [ 0.25975021, -0.11073905, -0.51339655],\n",
       "         ...,\n",
       "         [ 0.02909085, -0.42782033, -0.79390505],\n",
       "         [-0.10854436, -0.5019166 , -0.81970252],\n",
       "         [-0.03120971, -0.45134452, -0.81969571]],\n",
       "\n",
       "        [[-0.13096775, -0.41231282, -0.79601127],\n",
       "         [-0.01968724, -0.33116157, -0.71665544],\n",
       "         [ 0.21964204, -0.11812949, -0.53922595],\n",
       "         ...,\n",
       "         [ 0.16179917, -0.29031053, -0.66019763],\n",
       "         [-0.01938608, -0.45783343, -0.81032526],\n",
       "         [-0.09773946, -0.4563004 , -0.77857238]],\n",
       "\n",
       "        [[-0.1964655 , -0.462396  , -0.83161259],\n",
       "         [-0.02486312, -0.3336164 , -0.72123805],\n",
       "         [ 0.0902117 , -0.21607018, -0.59001132],\n",
       "         ...,\n",
       "         [ 0.22121806, -0.19600919, -0.55220866],\n",
       "         [ 0.04422302, -0.34505718, -0.71663927],\n",
       "         [-0.17536196, -0.50463278, -0.78151364]]],\n",
       "\n",
       "\n",
       "       [[[-0.7915374 , -0.91118797, -0.82842396],\n",
       "         [-0.77751814, -0.89856134, -0.82691777],\n",
       "         [-0.78985749, -0.91178126, -0.82484453],\n",
       "         ...,\n",
       "         [-1.09290335, -1.10159601, -0.97517286],\n",
       "         [-1.05429145, -1.07683381, -0.96731329],\n",
       "         [-0.93277421, -0.96942435, -0.85836537]],\n",
       "\n",
       "        [[-0.77573082, -0.89612454, -0.84812361],\n",
       "         [-0.79331486, -0.9015897 , -0.81249166],\n",
       "         [-0.80426216, -0.89888923, -0.80969009],\n",
       "         ...,\n",
       "         [-1.08263094, -1.10623786, -0.96276177],\n",
       "         [-1.03989845, -1.06361442, -0.95188649],\n",
       "         [-0.91514686, -0.95289246, -0.84152696]],\n",
       "\n",
       "        [[-0.77735277, -0.8835343 , -0.81997156],\n",
       "         [-0.7849839 , -0.89222998, -0.79961438],\n",
       "         [-0.78088077, -0.88791332, -0.79451245],\n",
       "         ...,\n",
       "         [-1.04765674, -1.08657673, -0.95392543],\n",
       "         [-1.03550225, -1.05956817, -0.94517929],\n",
       "         [-0.90680399, -0.9436894 , -0.83143349]],\n",
       "\n",
       "        ...,\n",
       "\n",
       "        [[-0.39709098, -0.41793137, -0.33805344],\n",
       "         [-0.35226192, -0.38645355, -0.31912644],\n",
       "         [-0.31605291, -0.39750176, -0.32712728],\n",
       "         ...,\n",
       "         [-0.17334873, -0.23648755, -0.15688063],\n",
       "         [-0.35663744, -0.29583928, -0.09245479],\n",
       "         [-0.78580143, -0.73458491, -0.49629881]],\n",
       "\n",
       "        [[-0.39158379, -0.41231282, -0.33484526],\n",
       "         [-0.34457573, -0.39445287, -0.32995887],\n",
       "         [-0.35488522, -0.43614505, -0.33751216],\n",
       "         ...,\n",
       "         [-0.39704019, -0.40136811, -0.21007935],\n",
       "         [-0.51409669, -0.23653908,  0.16603605],\n",
       "         [-0.251238  , -0.22102379, -0.00913276]],\n",
       "\n",
       "        [[-0.44043409, -0.47799646, -0.40343456],\n",
       "         [-0.40832674, -0.45913278, -0.39820119],\n",
       "         [-0.38670727, -0.42084311, -0.34324394],\n",
       "         ...,\n",
       "         [-0.31899902, -0.25908125, -0.04244883],\n",
       "         [-0.92692446, -0.53391694,  0.08675211],\n",
       "         [-0.26722205, -0.11379456,  0.10973002]]],\n",
       "\n",
       "\n",
       "       ...,\n",
       "\n",
       "\n",
       "       [[[ 1.31631267,  1.47548408,  1.50741041],\n",
       "         [ 1.3459954 ,  1.49137385,  1.52122029],\n",
       "         [ 1.30809365,  1.45484453,  1.48590643],\n",
       "         ...,\n",
       "         [ 0.67830678,  0.88358155,  0.97196479],\n",
       "         [ 0.75509374,  0.95935967,  1.06418346],\n",
       "         [ 0.83534079,  1.0253642 ,  1.11398155]],\n",
       "\n",
       "        [[ 1.1724941 ,  1.37523334,  1.42832361],\n",
       "         [ 1.17078617,  1.34713473,  1.40142408],\n",
       "         [ 1.21495923,  1.36512798,  1.40518654],\n",
       "         ...,\n",
       "         [ 0.60571245,  0.82691918,  0.92209849],\n",
       "         [ 0.73683016,  0.95574137,  1.05086323],\n",
       "         [ 0.65513019,  0.84745169,  0.95267823]],\n",
       "\n",
       "        [[ 1.08331719,  1.3016633 ,  1.36060089],\n",
       "         [ 1.09566736,  1.3148485 ,  1.37211411],\n",
       "         [ 1.01824918,  1.22492032,  1.28994514],\n",
       "         ...,\n",
       "         [ 0.73266108,  0.94274474,  1.05589105],\n",
       "         [ 0.57341485,  0.79755391,  0.88502195],\n",
       "         [ 0.46644078,  0.66233266,  0.77354912]],\n",
       "\n",
       "        ...,\n",
       "\n",
       "        [[ 0.66177944,  0.74518824,  0.84819086],\n",
       "         [ 0.6374076 ,  0.73759608,  0.79357825],\n",
       "         [ 0.64880638,  0.73361782,  0.85257806],\n",
       "         ...,\n",
       "         [ 1.25930057,  1.54928502,  1.95617599],\n",
       "         [ 1.34900244,  1.65396927,  2.04286833],\n",
       "         [ 1.21617659,  1.51560265,  1.95227774]],\n",
       "\n",
       "        [[ 0.08365723,  0.21556362,  0.58748675],\n",
       "         [ 0.39802654,  0.53909373,  0.75279154],\n",
       "         [ 0.5767806 ,  0.67690939,  0.79518837],\n",
       "         ...,\n",
       "         [ 1.12424472,  1.43901466,  1.88529887],\n",
       "         [ 1.12463221,  1.40736179,  1.85529609],\n",
       "         [ 1.34514677,  1.62981888,  2.03757661]],\n",
       "\n",
       "        [[ 0.36771185,  0.47363117,  0.63642639],\n",
       "         [ 0.37393904,  0.46655058,  0.63244023],\n",
       "         [ 0.49020825,  0.55576624,  0.67467153],\n",
       "         ...,\n",
       "         [ 1.22447834,  1.55424052,  1.98114319],\n",
       "         [ 1.30825625,  1.59075532,  2.01798139],\n",
       "         [ 1.43218959,  1.69969478,  2.12271139]]],\n",
       "\n",
       "\n",
       "       [[[ 0.69476713,  0.8855202 ,  0.85583556],\n",
       "         [ 0.57503825,  0.76633733,  0.7098218 ],\n",
       "         [ 0.44184285,  0.62114681,  0.53948184],\n",
       "         ...,\n",
       "         [ 1.05979819,  1.30222443,  1.26773253],\n",
       "         [ 1.01357734,  1.24253889,  1.19961658],\n",
       "         [ 0.9985514 ,  1.21406042,  1.16329022]],\n",
       "\n",
       "        [[ 0.68203188,  0.88851379,  0.84683981],\n",
       "         [ 0.67976091,  0.88655262,  0.84485309],\n",
       "         [ 0.64193694,  0.84996239,  0.81125314],\n",
       "         ...,\n",
       "         [ 1.09986173,  1.31701533,  1.28170999],\n",
       "         [ 1.09217588,  1.33521762,  1.28575363],\n",
       "         [ 1.09207685,  1.29415362,  1.24965012]],\n",
       "\n",
       "        [[ 0.48133573,  0.69089379,  0.65439277],\n",
       "         [ 0.50538996,  0.72901903,  0.68957087],\n",
       "         [ 0.04314821,  0.2571062 ,  0.29734628],\n",
       "         ...,\n",
       "         [ 1.1742903 ,  1.38151695,  1.34300769],\n",
       "         [ 1.21973197,  1.42569815,  1.38303589],\n",
       "         [ 1.24919029,  1.43812298,  1.3956354 ]],\n",
       "\n",
       "        ...,\n",
       "\n",
       "        [[-0.38174503, -0.35506004, -0.32264767],\n",
       "         [-0.3831891 , -0.32312681, -0.28821797],\n",
       "         [-0.72067132, -0.66833321, -0.54444142],\n",
       "         ...,\n",
       "         [ 0.02909085,  0.20995559,  0.09171427],\n",
       "         [-0.24809672, -0.12146616, -0.16982157],\n",
       "         [-0.04660954,  0.09940069,  0.01189632]],\n",
       "\n",
       "        [[-0.17695881, -0.22394989, -0.22723986],\n",
       "         [-0.39098837, -0.41027569, -0.37636246],\n",
       "         [-0.71202379, -0.69055749, -0.60129174],\n",
       "         ...,\n",
       "         [-0.14866714, -0.06819537, -0.17903671],\n",
       "         [-0.28220109, -0.15750539, -0.22140891],\n",
       "         [-0.08238961,  0.09267836, -0.00913276]],\n",
       "\n",
       "        [[-0.77589089, -0.7276037 , -0.6022315 ],\n",
       "         [-0.86848308, -0.83568195, -0.69047263],\n",
       "         [-0.37132279, -0.34208429, -0.31239801],\n",
       "         ...,\n",
       "         [-0.62769449, -0.54290552, -0.49041959],\n",
       "         [-0.71111391, -0.58113188, -0.48489176],\n",
       "         [-0.46625224, -0.36393102, -0.35125808]]],\n",
       "\n",
       "\n",
       "       [[[-1.34552364,  0.41623075,  0.60995826],\n",
       "         [-1.35911739,  0.44409888,  0.64835222],\n",
       "         [-1.35833457,  0.55391312,  0.78530641],\n",
       "         ...,\n",
       "         [-1.58339231,  0.03279117,  0.81175726],\n",
       "         [-1.59846745, -0.42956701,  0.33776947],\n",
       "         [-1.59921755, -0.55159701,  0.17711676]],\n",
       "\n",
       "        [[-1.10270563,  0.60459406,  0.82209582],\n",
       "         [-1.06610667,  0.68335462,  0.9314308 ],\n",
       "         [-1.14534686,  0.79573443,  1.00923094],\n",
       "         ...,\n",
       "         [-1.60423296, -0.098818  ,  0.68649096],\n",
       "         [-1.61391846, -0.5892691 ,  0.1978402 ],\n",
       "         [-1.6115306 , -0.66862759,  0.09888404]],\n",
       "\n",
       "        [[-1.03729931,  0.92162894,  1.14997742],\n",
       "         [-0.96343986,  0.86525844,  0.96258817],\n",
       "         [-1.11049237,  0.81598478,  0.94253554],\n",
       "         ...,\n",
       "         [-1.65489692, -0.49697658,  0.19454113],\n",
       "         [-1.64056509, -0.60894296,  0.12555068],\n",
       "         [-1.60715882, -0.56259942,  0.15146283]],\n",
       "\n",
       "        ...,\n",
       "\n",
       "        [[-0.28966934,  1.92402567,  2.52741979],\n",
       "         [-0.44504344,  1.97246749,  2.55536066],\n",
       "         [-1.26534994,  0.988518  ,  1.48899805],\n",
       "         ...,\n",
       "         [-1.71500394,  0.1940112 ,  1.17931694],\n",
       "         [-1.70564352,  0.11631537,  1.08352027],\n",
       "         [-1.66359179,  0.06792953,  1.05908629]],\n",
       "\n",
       "        [[-0.45290521,  1.87943618,  2.53975617],\n",
       "         [-0.6849351 ,  1.82074244,  2.39238502],\n",
       "         [-1.51946751,  0.1044814 ,  0.91931993],\n",
       "         ...,\n",
       "         [-1.68547536,  0.16978516,  1.12475419],\n",
       "         [-1.68903439,  0.11120918,  1.08040616],\n",
       "         [-1.66342452,  0.04562304,  1.02191632]],\n",
       "\n",
       "        [[-0.85213107,  1.73726785,  2.54793549],\n",
       "         [-1.0832227 ,  1.01568477,  1.64769893],\n",
       "         [-1.66361935, -0.45234664,  0.64382561],\n",
       "         ...,\n",
       "         [-1.67725909,  0.18242318,  1.10064895],\n",
       "         [-1.65143132,  0.1113539 ,  1.0755415 ],\n",
       "         [-1.64512337,  0.04254073,  1.01633995]]]])"
      ]
     },
     "execution_count": 37,
     "metadata": {},
     "output_type": "execute_result"
    }
   ],
   "source": [
    "all_X_scaled"
   ]
  },
  {
   "cell_type": "code",
   "execution_count": 130,
   "metadata": {},
   "outputs": [
    {
     "data": {
      "text/plain": [
       "((4000, 100, 100, 3), (2378, 100, 100, 3))"
      ]
     },
     "execution_count": 130,
     "metadata": {},
     "output_type": "execute_result"
    }
   ],
   "source": [
    "train_X = all_X_scaled[:4000]\n",
    "test_X = all_X_scaled[4000:6378]\n",
    "train_X.shape, test_X.shape"
   ]
  },
  {
   "cell_type": "code",
   "execution_count": 39,
   "metadata": {},
   "outputs": [],
   "source": [
    "import torch"
   ]
  },
  {
   "cell_type": "code",
   "execution_count": 40,
   "metadata": {},
   "outputs": [],
   "source": [
    "device = torch.device(\"cuda:2\")"
   ]
  },
  {
   "cell_type": "code",
   "execution_count": 41,
   "metadata": {},
   "outputs": [],
   "source": [
    "train_X_tensor = torch.Tensor(train_X)"
   ]
  },
  {
   "cell_type": "code",
   "execution_count": 42,
   "metadata": {},
   "outputs": [],
   "source": [
    "train_X_gpu = train_X_tensor.to(device)"
   ]
  },
  {
   "cell_type": "code",
   "execution_count": 132,
   "metadata": {},
   "outputs": [],
   "source": [
    "test_X_tensor = torch.Tensor(test_X)"
   ]
  },
  {
   "cell_type": "code",
   "execution_count": 133,
   "metadata": {},
   "outputs": [],
   "source": [
    "test_X_gpu = test_X_tensor.to(device)"
   ]
  },
  {
   "cell_type": "code",
   "execution_count": 126,
   "metadata": {},
   "outputs": [],
   "source": [
    "train_y_gpu = torch.Tensor(train_y).to(device)"
   ]
  },
  {
   "cell_type": "code",
   "execution_count": 127,
   "metadata": {},
   "outputs": [],
   "source": [
    "test_y_gpu = torch.Tensor(test_y).to(device)"
   ]
  },
  {
   "cell_type": "code",
   "execution_count": 47,
   "metadata": {},
   "outputs": [
    {
     "data": {
      "text/plain": [
       "torch.Size([4000, 100, 100, 3])"
      ]
     },
     "execution_count": 47,
     "metadata": {},
     "output_type": "execute_result"
    }
   ],
   "source": [
    "train_X_tensor.size()"
   ]
  },
  {
   "cell_type": "markdown",
   "metadata": {},
   "source": [
    "## Writing our own batching and shuffling (from 1.1)"
   ]
  },
  {
   "cell_type": "code",
   "execution_count": 48,
   "metadata": {},
   "outputs": [],
   "source": [
    "class Batcher:\n",
    "    def __init__(self, X, y, device, batch_size=50, max_iter=None):\n",
    "        self.X = X\n",
    "        self.y = y\n",
    "        self.device = device\n",
    "        self.batch_size=batch_size\n",
    "        self.max_iter = max_iter\n",
    "        self.curr_iter = 0\n",
    "        \n",
    "    def __iter__(self):\n",
    "        return self\n",
    "    \n",
    "    def __next__(self):\n",
    "        if self.curr_iter == self.max_iter:\n",
    "            raise StopIteration\n",
    "        permutation = torch.randperm(self.X.size()[0], device=self.device)\n",
    "        permX = self.X[permutation]\n",
    "        permy = self.y[permutation]\n",
    "        splitX = torch.split(permX, self.batch_size)\n",
    "        splity = torch.split(permy, self.batch_size)\n",
    "        \n",
    "        self.curr_iter += 1\n",
    "        return zip(splitX, splity)"
   ]
  },
  {
   "cell_type": "markdown",
   "metadata": {},
   "source": [
    "## Making a convolutional neural network"
   ]
  },
  {
   "cell_type": "code",
   "execution_count": 49,
   "metadata": {},
   "outputs": [],
   "source": [
    "import torch.nn as nn"
   ]
  },
  {
   "cell_type": "code",
   "execution_count": 99,
   "metadata": {},
   "outputs": [],
   "source": [
    "class MultiClassClassifier(nn.Module):\n",
    "    def __init__(self, hidden_size, height, width, num_classes):\n",
    "        super(MultiClassClassifier, self).__init__()\n",
    "        self.hidden_size = hidden_size\n",
    "        self.height = height\n",
    "        self.width = width\n",
    "        \n",
    "        self.layers1 = nn.Sequential(\n",
    "            nn.Conv2d(3, 3, 3, padding=1), # Hardcoding dimensions three input channels, three output channels, 3x3 window\n",
    "            nn.BatchNorm2d(3),\n",
    "            nn.Tanh()\n",
    "        )\n",
    "        \n",
    "        self.layers2 = nn.Sequential(\n",
    "            nn.Linear(30000, hidden_size),  # Hardcoded the number here to match the output of layers1\n",
    "            nn.Dropout(0.05),\n",
    "            nn.Tanh(),\n",
    "            nn.Linear(hidden_size, int(hidden_size/2)),\n",
    "            nn.Tanh(),\n",
    "            nn.Linear(int(hidden_size/2), num_classes),\n",
    "        )\n",
    "\n",
    "        \n",
    "    def num_flat_features(self, x):\n",
    "        size = x.size()[1:]  # All dimensions except the batch dimension\n",
    "        num_features = 1\n",
    "        for s in size:\n",
    "            num_features *= s\n",
    "        return num_features\n",
    "\n",
    "    def forward(self, batch):\n",
    "        batch = batch.permute(0, 3, 1, 2)\n",
    "        batch = self.layers1(batch)\n",
    "        #print(\"After layers1:\", batch.shape)\n",
    "        batch = batch.reshape(-1, self.num_flat_features(batch))\n",
    "        output = self.layers2(batch)\n",
    "        return output\n",
    "\n",
    "\n",
    "\n"
   ]
  },
  {
   "cell_type": "code",
   "execution_count": 88,
   "metadata": {},
   "outputs": [],
   "source": [
    "import torch.optim as optim"
   ]
  },
  {
   "cell_type": "code",
   "execution_count": 101,
   "metadata": {},
   "outputs": [],
   "source": [
    "def train(X, y, batch_size, epochs, device, num_classes, model=None):\n",
    "    b = Batcher(X, y, device, batch_size=batch_size, max_iter=epochs)\n",
    "    if not model:\n",
    "        \n",
    "        m = MultiClassClassifier(3000, X[0].size()[1], X[0].size()[2], num_classes).to(device)\n",
    "    else:\n",
    "        m = model\n",
    "    loss_fn = nn.CrossEntropyLoss()  # Changing the loss function for multiclass classification\n",
    "    optimizer = optim.Adam(m.parameters(), lr=0.005)\n",
    "    epoch = 0\n",
    "    for split in b:\n",
    "        tot_loss = 0\n",
    "        for batch in split:\n",
    "            optimizer.zero_grad()\n",
    "            o = m(batch[0].to(device))  # Reasserting the device the data is on\n",
    "            l = loss_fn(o, batch[1].to(device).long())\n",
    "            tot_loss += l.item()  # Getting the loss value\n",
    "            l.backward()\n",
    "            optimizer.step()\n",
    "        print(\"Total loss in epoch {} is {:.4f}.\".format(epoch, tot_loss))\n",
    "        epoch += 1\n",
    "    return m\n"
   ]
  },
  {
   "cell_type": "code",
   "execution_count": 100,
   "metadata": {
    "scrolled": true
   },
   "outputs": [
    {
     "name": "stdout",
     "output_type": "stream",
     "text": [
      "Total loss in epoch 0 is 294.5687.\n",
      "Total loss in epoch 1 is 155.3133.\n",
      "Total loss in epoch 2 is 129.7460.\n",
      "Total loss in epoch 3 is 144.3140.\n",
      "Total loss in epoch 4 is 137.1518.\n",
      "Total loss in epoch 5 is 124.1547.\n",
      "Total loss in epoch 6 is 162.7643.\n",
      "Total loss in epoch 7 is 146.9206.\n",
      "Total loss in epoch 8 is 131.7876.\n",
      "Total loss in epoch 9 is 147.1382.\n"
     ]
    }
   ],
   "source": [
    "model = train(train_X_gpu, train_y_gpu, 25, 10, device, 6)"
   ]
  },
  {
   "cell_type": "code",
   "execution_count": 102,
   "metadata": {},
   "outputs": [
    {
     "name": "stdout",
     "output_type": "stream",
     "text": [
      "Total loss in epoch 0 is 143.3559.\n",
      "Total loss in epoch 1 is 137.3468.\n",
      "Total loss in epoch 2 is 137.3567.\n",
      "Total loss in epoch 3 is 165.0363.\n",
      "Total loss in epoch 4 is 163.7806.\n",
      "Total loss in epoch 5 is 152.3719.\n",
      "Total loss in epoch 6 is 124.2312.\n",
      "Total loss in epoch 7 is 156.7057.\n",
      "Total loss in epoch 8 is 112.8800.\n",
      "Total loss in epoch 9 is 119.3978.\n"
     ]
    }
   ],
   "source": [
    "model = train(train_X_gpu, train_y_gpu, 25, 10, device, 6, model)"
   ]
  },
  {
   "cell_type": "code",
   "execution_count": 103,
   "metadata": {},
   "outputs": [
    {
     "data": {
      "text/plain": [
       "[Parameter containing:\n",
       " tensor([[[[ 0.1017,  0.1747,  0.2142],\n",
       "           [-0.0785,  0.0666,  0.1809],\n",
       "           [-0.1531,  0.1454,  0.1120]],\n",
       " \n",
       "          [[ 0.1013, -0.0923, -0.1301],\n",
       "           [-0.1066,  0.0600,  0.0389],\n",
       "           [ 0.1180, -0.0922, -0.1225]],\n",
       " \n",
       "          [[ 0.5794,  0.4435,  0.2629],\n",
       "           [ 0.3617,  0.2547,  0.5511],\n",
       "           [ 0.2701,  0.3216,  0.3832]]],\n",
       " \n",
       " \n",
       "         [[[ 0.1237,  0.3315,  0.3490],\n",
       "           [ 0.3191,  0.0959,  0.3255],\n",
       "           [ 0.1618,  0.0499,  0.1885]],\n",
       " \n",
       "          [[ 0.1932,  0.1046,  0.2648],\n",
       "           [ 0.1887,  0.2979,  0.1355],\n",
       "           [ 0.1219,  0.3184,  0.0832]],\n",
       " \n",
       "          [[ 0.1463, -0.0261,  0.2626],\n",
       "           [ 0.0047, -0.0208,  0.2440],\n",
       "           [ 0.1395,  0.2229,  0.0425]]],\n",
       " \n",
       " \n",
       "         [[[-0.1575, -0.3902, -0.2278],\n",
       "           [-0.3941, -0.3830, -0.2320],\n",
       "           [-0.4476, -0.3640, -0.2830]],\n",
       " \n",
       "          [[ 0.1116,  0.0737,  0.2718],\n",
       "           [ 0.1734,  0.2840,  0.1775],\n",
       "           [ 0.2220,  0.2838,  0.1896]],\n",
       " \n",
       "          [[-0.1423,  0.0008,  0.0008],\n",
       "           [ 0.0053,  0.1238,  0.0043],\n",
       "           [-0.0205, -0.0223, -0.0925]]]], device='cuda:2', requires_grad=True),\n",
       " Parameter containing:\n",
       " tensor([4.4301, 4.3832, 6.0283], device='cuda:2', requires_grad=True),\n",
       " Parameter containing:\n",
       " tensor([0.6272, 0.7226, 0.8167], device='cuda:2', requires_grad=True),\n",
       " Parameter containing:\n",
       " tensor([-0.5417,  0.3675, -0.1290], device='cuda:2', requires_grad=True),\n",
       " Parameter containing:\n",
       " tensor([[-0.2428, -0.2435, -0.2541,  ..., -0.1737, -0.0877, -0.0931],\n",
       "         [-0.1700,  0.0251,  0.0298,  ...,  0.2282,  0.1674,  0.2480],\n",
       "         [-0.0087,  0.0143,  0.0322,  ..., -0.2869, -0.2797, -0.3787],\n",
       "         ...,\n",
       "         [ 0.0365, -0.0122, -0.0329,  ...,  0.2644,  0.2002,  0.3079],\n",
       "         [-0.2698, -0.2955, -0.3064,  ..., -0.3741, -0.2564, -0.0406],\n",
       "         [-0.1327, -0.0706, -0.1682,  ..., -0.2527, -0.2860, -0.2675]],\n",
       "        device='cuda:2', requires_grad=True),\n",
       " Parameter containing:\n",
       " tensor([ 0.1175,  0.3017, -0.0769,  ...,  0.0213,  0.3218, -0.2404],\n",
       "        device='cuda:2', requires_grad=True),\n",
       " Parameter containing:\n",
       " tensor([[-0.0095, -0.0008, -0.4491,  ..., -0.0191,  0.0592,  0.1403],\n",
       "         [-0.2101, -0.2071, -0.3266,  ..., -0.0167, -0.2143,  0.0071],\n",
       "         [-0.0550,  0.0358, -0.0389,  ...,  0.0169,  0.2305,  0.1281],\n",
       "         ...,\n",
       "         [-0.0574,  0.2337,  0.1920,  ..., -0.2613,  0.2208, -0.2074],\n",
       "         [ 0.3765, -0.2465, -0.2324,  ...,  0.0446, -0.4801,  0.0136],\n",
       "         [ 0.2590,  0.1226, -0.0951,  ..., -0.3162, -0.0019,  0.3152]],\n",
       "        device='cuda:2', requires_grad=True),\n",
       " Parameter containing:\n",
       " tensor([ 0.1108, -0.2548,  0.2716,  ...,  0.2276, -0.1283, -0.3445],\n",
       "        device='cuda:2', requires_grad=True),\n",
       " Parameter containing:\n",
       " tensor([[-0.0319, -0.0332, -0.0175,  ..., -0.0072,  0.0346, -0.0374],\n",
       "         [ 0.0212,  0.0166,  0.0174,  ...,  0.0114, -0.0440,  0.0158],\n",
       "         [ 0.1385,  0.0578, -0.1328,  ..., -0.0634,  0.0257,  0.1849],\n",
       "         [ 0.1588,  0.0007, -0.1587,  ..., -0.0023,  0.1330,  0.0582],\n",
       "         [ 0.1204, -0.0218, -0.0942,  ..., -0.0242,  0.0458,  0.1356],\n",
       "         [ 0.1761,  0.0095, -0.2120,  ...,  0.0150,  0.0099,  0.2092]],\n",
       "        device='cuda:2', requires_grad=True),\n",
       " Parameter containing:\n",
       " tensor([ 0.9772,  0.6523, -1.2046, -1.2484, -1.3135, -1.2778], device='cuda:2',\n",
       "        requires_grad=True)]"
      ]
     },
     "execution_count": 103,
     "metadata": {},
     "output_type": "execute_result"
    }
   ],
   "source": [
    "list(model.parameters())"
   ]
  },
  {
   "cell_type": "code",
   "execution_count": 104,
   "metadata": {},
   "outputs": [
    {
     "data": {
      "text/plain": [
       "MultiClassClassifier(\n",
       "  (layers1): Sequential(\n",
       "    (0): Conv2d(3, 3, kernel_size=(3, 3), stride=(1, 1), padding=(1, 1))\n",
       "    (1): BatchNorm2d(3, eps=1e-05, momentum=0.1, affine=True, track_running_stats=True)\n",
       "    (2): Tanh()\n",
       "  )\n",
       "  (layers2): Sequential(\n",
       "    (0): Linear(in_features=30000, out_features=3000, bias=True)\n",
       "    (1): Dropout(p=0.05, inplace=False)\n",
       "    (2): Tanh()\n",
       "    (3): Linear(in_features=3000, out_features=1500, bias=True)\n",
       "    (4): Tanh()\n",
       "    (5): Linear(in_features=1500, out_features=6, bias=True)\n",
       "  )\n",
       ")"
      ]
     },
     "execution_count": 104,
     "metadata": {},
     "output_type": "execute_result"
    }
   ],
   "source": [
    "model.eval()"
   ]
  },
  {
   "cell_type": "code",
   "execution_count": 134,
   "metadata": {},
   "outputs": [
    {
     "data": {
      "text/plain": [
       "torch.Size([2378, 100, 100, 3])"
      ]
     },
     "execution_count": 134,
     "metadata": {},
     "output_type": "execute_result"
    }
   ],
   "source": [
    "test_X_gpu.size()"
   ]
  },
  {
   "cell_type": "code",
   "execution_count": 135,
   "metadata": {},
   "outputs": [],
   "source": [
    "with torch.no_grad():\n",
    "    predictions = model(test_X_gpu)"
   ]
  },
  {
   "cell_type": "code",
   "execution_count": 144,
   "metadata": {},
   "outputs": [
    {
     "data": {
      "text/plain": [
       "torch.Size([2378, 6])"
      ]
     },
     "execution_count": 144,
     "metadata": {},
     "output_type": "execute_result"
    }
   ],
   "source": [
    "predictions.size()"
   ]
  },
  {
   "cell_type": "code",
   "execution_count": 138,
   "metadata": {},
   "outputs": [
    {
     "data": {
      "text/plain": [
       "2378"
      ]
     },
     "execution_count": 138,
     "metadata": {},
     "output_type": "execute_result"
    }
   ],
   "source": [
    "len(test_y)"
   ]
  },
  {
   "cell_type": "code",
   "execution_count": 139,
   "metadata": {},
   "outputs": [
    {
     "data": {
      "text/plain": [
       "(torch.Size([2378]), torch.Size([2378, 6]))"
      ]
     },
     "execution_count": 139,
     "metadata": {},
     "output_type": "execute_result"
    }
   ],
   "source": [
    "test_y_gpu.size(), predictions.size()"
   ]
  },
  {
   "cell_type": "markdown",
   "metadata": {},
   "source": [
    "Changing the evaluation functions in order to properly represent the multiclass model"
   ]
  },
  {
   "cell_type": "code",
   "execution_count": 149,
   "metadata": {},
   "outputs": [
    {
     "name": "stdout",
     "output_type": "stream",
     "text": [
      "              precision    recall  f1-score   support\n",
      "\n",
      "         cat       0.22      0.76      0.34       500\n",
      "       horse       0.19      0.24      0.21       500\n",
      "         dog       0.00      0.00      0.00       440\n",
      "       sheep       0.00      0.00      0.00       306\n",
      "        bird       0.00      0.00      0.00       440\n",
      "        bear       0.00      0.00      0.00       192\n",
      "\n",
      "    accuracy                           0.21      2378\n",
      "   macro avg       0.07      0.17      0.09      2378\n",
      "weighted avg       0.09      0.21      0.12      2378\n",
      "\n",
      "       cat  horse  dog  sheep  bird  bear\n",
      "cat    381    119    0      0     0     0\n",
      "horse  380    120    0      0     0     0\n",
      "dog    322    118    0      0     0     0\n",
      "sheep  233     73    0      0     0     0\n",
      "bird   305    135    0      0     0     0\n",
      "bear   124     68    0      0     0     0\n"
     ]
    },
    {
     "name": "stderr",
     "output_type": "stream",
     "text": [
      "/home/guslasbo@GU.GU.SE/miniconda3/envs/Assignment1_ML/lib/python3.9/site-packages/sklearn/metrics/_classification.py:1469: UndefinedMetricWarning: Precision and F-score are ill-defined and being set to 0.0 in labels with no predicted samples. Use `zero_division` parameter to control this behavior.\n",
      "  _warn_prf(average, modifier, msg_start, len(result))\n",
      "/home/guslasbo@GU.GU.SE/miniconda3/envs/Assignment1_ML/lib/python3.9/site-packages/sklearn/metrics/_classification.py:1469: UndefinedMetricWarning: Precision and F-score are ill-defined and being set to 0.0 in labels with no predicted samples. Use `zero_division` parameter to control this behavior.\n",
      "  _warn_prf(average, modifier, msg_start, len(result))\n",
      "/home/guslasbo@GU.GU.SE/miniconda3/envs/Assignment1_ML/lib/python3.9/site-packages/sklearn/metrics/_classification.py:1469: UndefinedMetricWarning: Precision and F-score are ill-defined and being set to 0.0 in labels with no predicted samples. Use `zero_division` parameter to control this behavior.\n",
      "  _warn_prf(average, modifier, msg_start, len(result))\n"
     ]
    }
   ],
   "source": [
    "from sklearn.metrics import classification_report, confusion_matrix\n",
    "\n",
    "# Converting predictions to class labels\n",
    "_, predicted_classes = predictions.max(1)  # Taking only the highest probabilities\n",
    "\n",
    "# Converting tensors to CPU and numpy arrays for better compatability\n",
    "predicted_classes = predicted_classes.cpu().numpy()\n",
    "test_y = test_y_gpu.cpu().numpy()\n",
    "\n",
    "# Defining class names\n",
    "class_names = [name for name, index in sorted(label_mapping.items(), key=lambda item: item[1])]\n",
    "\n",
    "# Creating classifiation repport\n",
    "report = classification_report(test_y, predicted_classes, target_names=class_names)\n",
    "\n",
    "# Confusion matrix\n",
    "conf_matrix = confusion_matrix(test_y, predicted_classes)\n",
    "\n",
    "\n",
    "print(report)\n",
    "\n",
    "\n",
    "conf_matrix_df = pd.DataFrame(conf_matrix, index=class_names, columns=class_names)\n",
    "print(conf_matrix_df)\n"
   ]
  },
  {
   "cell_type": "markdown",
   "metadata": {},
   "source": [
    "## A little plotting"
   ]
  },
  {
   "cell_type": "markdown",
   "metadata": {},
   "source": [
    "My attempt at adapting the `prc` and `roc` plots to the new multiclass output. It wasn't successful."
   ]
  },
  {
   "cell_type": "code",
   "execution_count": 150,
   "metadata": {},
   "outputs": [],
   "source": [
    "def precision_recall(data, preds, incr=0.1):\n",
    "    num_classes = preds.size(1)\n",
    "    thresholds = torch.arange(0.0, 1.0, incr).tolist()\n",
    "    precision_recall_values = {class_i: [] for class_i in range(num_classes)}\n",
    "\n",
    "    for threshold in thresholds:\n",
    "        for class_i in range(num_classes):\n",
    "            class_preds = preds[:, class_i] >= threshold\n",
    "            class_data = data == class_i\n",
    "\n",
    "            tp = (class_preds & class_data).sum().item()\n",
    "            fp = (class_preds & ~class_data).sum().item()\n",
    "            fn = (~class_preds & class_data).sum().item()\n",
    "\n",
    "            recall = tp / (tp + fn) if (tp + fn) > 0 else 0\n",
    "            precision = tp / (tp + fp) if (tp + fp) > 0 else 0\n",
    "\n",
    "            precision_recall_values[class_i].append((precision, recall))\n",
    "\n",
    "\n",
    "    for class_i, values in precision_recall_values.items():\n",
    "        precision_recall_values[class_i] = list(zip(*values))\n",
    "\n",
    "    return precision_recall_values\n"
   ]
  },
  {
   "cell_type": "code",
   "execution_count": 151,
   "metadata": {},
   "outputs": [],
   "source": [
    "prc = precision_recall(test_y_gpu, predictions, incr=0.05)"
   ]
  },
  {
   "cell_type": "code",
   "execution_count": 152,
   "metadata": {},
   "outputs": [
    {
     "data": {
      "text/plain": [
       "{0: [(0.20968421052631578,\n",
       "   0.20977253580454927,\n",
       "   0.20977253580454927,\n",
       "   0.20986093552465235,\n",
       "   0.21003795866722902,\n",
       "   0.21003795866722902,\n",
       "   0.21003795866722902,\n",
       "   0.21021528070915999,\n",
       "   0.20988175675675674,\n",
       "   0.20988175675675674,\n",
       "   0.20997042670046473,\n",
       "   0.21005917159763313,\n",
       "   0.21032585696148964,\n",
       "   0.21041490262489415,\n",
       "   0.21059322033898306,\n",
       "   0.21059322033898306,\n",
       "   0.21068249258160238,\n",
       "   0.21068249258160238,\n",
       "   0.21034775233248515,\n",
       "   0.2102803738317757),\n",
       "  (0.996,\n",
       "   0.996,\n",
       "   0.996,\n",
       "   0.996,\n",
       "   0.996,\n",
       "   0.996,\n",
       "   0.996,\n",
       "   0.996,\n",
       "   0.994,\n",
       "   0.994,\n",
       "   0.994,\n",
       "   0.994,\n",
       "   0.994,\n",
       "   0.994,\n",
       "   0.994,\n",
       "   0.994,\n",
       "   0.994,\n",
       "   0.994,\n",
       "   0.992,\n",
       "   0.99)],\n",
       " 1: [(0.21110640101738024,\n",
       "   0.21095076400679116,\n",
       "   0.21121971950701232,\n",
       "   0.2108843537414966,\n",
       "   0.21048146570089477,\n",
       "   0.21032423208191126,\n",
       "   0.21025641025641026,\n",
       "   0.20960137162451778,\n",
       "   0.20867325032202663,\n",
       "   0.20885259991405242,\n",
       "   0.20801033591731266,\n",
       "   0.2080276219249029,\n",
       "   0.20762895535327264,\n",
       "   0.20782608695652174,\n",
       "   0.20813292522955837,\n",
       "   0.20816864295125165,\n",
       "   0.20881057268722467,\n",
       "   0.20868409392999557,\n",
       "   0.209375,\n",
       "   0.20915619389587073),\n",
       "  (0.996,\n",
       "   0.994,\n",
       "   0.994,\n",
       "   0.992,\n",
       "   0.988,\n",
       "   0.986,\n",
       "   0.984,\n",
       "   0.978,\n",
       "   0.972,\n",
       "   0.972,\n",
       "   0.966,\n",
       "   0.964,\n",
       "   0.958,\n",
       "   0.956,\n",
       "   0.952,\n",
       "   0.948,\n",
       "   0.948,\n",
       "   0.942,\n",
       "   0.938,\n",
       "   0.932)],\n",
       " 2: [(0, 0, 0, 0, 0, 0, 0, 0, 0, 0, 0, 0, 0, 0, 0, 0, 0, 0, 0, 0),\n",
       "  (0.0,\n",
       "   0.0,\n",
       "   0.0,\n",
       "   0.0,\n",
       "   0.0,\n",
       "   0.0,\n",
       "   0.0,\n",
       "   0.0,\n",
       "   0.0,\n",
       "   0.0,\n",
       "   0.0,\n",
       "   0.0,\n",
       "   0.0,\n",
       "   0.0,\n",
       "   0.0,\n",
       "   0.0,\n",
       "   0.0,\n",
       "   0.0,\n",
       "   0.0,\n",
       "   0.0)],\n",
       " 3: [(0, 0, 0, 0, 0, 0, 0, 0, 0, 0, 0, 0, 0, 0, 0, 0, 0, 0, 0, 0),\n",
       "  (0.0,\n",
       "   0.0,\n",
       "   0.0,\n",
       "   0.0,\n",
       "   0.0,\n",
       "   0.0,\n",
       "   0.0,\n",
       "   0.0,\n",
       "   0.0,\n",
       "   0.0,\n",
       "   0.0,\n",
       "   0.0,\n",
       "   0.0,\n",
       "   0.0,\n",
       "   0.0,\n",
       "   0.0,\n",
       "   0.0,\n",
       "   0.0,\n",
       "   0.0,\n",
       "   0.0)],\n",
       " 4: [(0, 0, 0, 0, 0, 0, 0, 0, 0, 0, 0, 0, 0, 0, 0, 0, 0, 0, 0, 0),\n",
       "  (0.0,\n",
       "   0.0,\n",
       "   0.0,\n",
       "   0.0,\n",
       "   0.0,\n",
       "   0.0,\n",
       "   0.0,\n",
       "   0.0,\n",
       "   0.0,\n",
       "   0.0,\n",
       "   0.0,\n",
       "   0.0,\n",
       "   0.0,\n",
       "   0.0,\n",
       "   0.0,\n",
       "   0.0,\n",
       "   0.0,\n",
       "   0.0,\n",
       "   0.0,\n",
       "   0.0)],\n",
       " 5: [(0, 0, 0, 0, 0, 0, 0, 0, 0, 0, 0, 0, 0, 0, 0, 0, 0, 0, 0, 0),\n",
       "  (0.0,\n",
       "   0.0,\n",
       "   0.0,\n",
       "   0.0,\n",
       "   0.0,\n",
       "   0.0,\n",
       "   0.0,\n",
       "   0.0,\n",
       "   0.0,\n",
       "   0.0,\n",
       "   0.0,\n",
       "   0.0,\n",
       "   0.0,\n",
       "   0.0,\n",
       "   0.0,\n",
       "   0.0,\n",
       "   0.0,\n",
       "   0.0,\n",
       "   0.0,\n",
       "   0.0)]}"
      ]
     },
     "execution_count": 152,
     "metadata": {},
     "output_type": "execute_result"
    }
   ],
   "source": [
    "prc"
   ]
  },
  {
   "cell_type": "code",
   "execution_count": 153,
   "metadata": {},
   "outputs": [],
   "source": [
    "import matplotlib.pyplot as plt"
   ]
  },
  {
   "cell_type": "code",
   "execution_count": 154,
   "metadata": {},
   "outputs": [
    {
     "data": {
      "text/plain": [
       "Text(0.5, 0, 'Recall')"
      ]
     },
     "execution_count": 154,
     "metadata": {},
     "output_type": "execute_result"
    },
    {
     "data": {
      "image/png": "[encoded data removed]",
      "text/plain": [
       "<Figure size 640x480 with 1 Axes>"
      ]
     },
     "metadata": {},
     "output_type": "display_data"
    }
   ],
   "source": [
    "fig = plt.figure()\n",
    "plt.plot(prc[1], prc[0])\n",
    "fig.suptitle(\"Precision-Recall\")\n",
    "plt.ylabel(\"Precision\")\n",
    "plt.xlabel(\"Recall\")"
   ]
  },
  {
   "cell_type": "code",
   "execution_count": 155,
   "metadata": {},
   "outputs": [],
   "source": [
    "def roccurve(data, preds, incr=0.1):\n",
    "    num_classes = preds.size(1)\n",
    "    thresholds = torch.arange(0.0, 1.0, incr).tolist()\n",
    "    roc_values = {class_i: [] for class_i in range(num_classes)}\n",
    "\n",
    "    for threshold in thresholds:\n",
    "        for class_i in range(num_classes):\n",
    "            class_preds = preds[:, class_i] >= threshold\n",
    "            class_data = data == class_i\n",
    "\n",
    "            tp = (class_preds & class_data).sum().item()\n",
    "            fp = (class_preds & ~class_data).sum().item()\n",
    "            tn = (~class_preds & ~class_data).sum().item()\n",
    "            fn = (~class_preds & class_data).sum().item()\n",
    "\n",
    "            # Calculating False Positive Rate (FPR) and True Positive Rate (TPR)\n",
    "            tpr = tp / (tp + fn) if (tp + fn) > 0 else 0\n",
    "            fpr = fp / (fp + tn) if (fp + tn) > 0 else 0\n",
    "\n",
    "            roc_values[class_i].append((fpr, tpr))\n",
    "\n",
    "    # Converting the dictionary of lists into a dictionary of tuples of lists\n",
    "    for class_i, values in roc_values.items():\n",
    "        roc_values[class_i] = list(zip(*values))\n",
    "\n",
    "    return roc_values\n"
   ]
  },
  {
   "cell_type": "code",
   "execution_count": 158,
   "metadata": {},
   "outputs": [],
   "source": [
    "roc = roccurve(test_y_gpu, predictions, 500)"
   ]
  },
  {
   "cell_type": "code",
   "execution_count": 159,
   "metadata": {},
   "outputs": [
    {
     "data": {
      "text/plain": [
       "{0: [(0.9994675186368477,), (0.996,)],\n",
       " 1: [(0.9909478168264111,), (0.996,)],\n",
       " 2: [(0.0,), (0.0,)],\n",
       " 3: [(0.0,), (0.0,)],\n",
       " 4: [(0.0,), (0.0,)],\n",
       " 5: [(0.0,), (0.0,)]}"
      ]
     },
     "execution_count": 159,
     "metadata": {},
     "output_type": "execute_result"
    }
   ],
   "source": [
    "roc"
   ]
  },
  {
   "cell_type": "code",
   "execution_count": 160,
   "metadata": {},
   "outputs": [
    {
     "data": {
      "text/plain": [
       "Text(0.5, 0, 'False Positive')"
      ]
     },
     "execution_count": 160,
     "metadata": {},
     "output_type": "execute_result"
    },
    {
     "data": {
      "image/png": "[encoded data removed]",
      "text/plain": [
       "<Figure size 640x480 with 1 Axes>"
      ]
     },
     "metadata": {},
     "output_type": "display_data"
    }
   ],
   "source": [
    "fig = plt.figure()\n",
    "plt.plot(prc[0], prc[1])\n",
    "fig.suptitle(\"ROC\")\n",
    "plt.ylabel(\"True Positive\")\n",
    "plt.xlabel(\"False Positive\")"
   ]
  },
  {
   "cell_type": "code",
   "execution_count": null,
   "metadata": {},
   "outputs": [],
   "source": []
  }
 ],
 "metadata": {
  "kernelspec": {
   "display_name": "Python 3",
   "language": "python",
   "name": "python3"
  },
  "language_info": {
   "codemirror_mode": {
    "name": "ipython",
    "version": 3
   },
   "file_extension": ".py",
   "mimetype": "text/x-python",
   "name": "python",
   "nbconvert_exporter": "python",
   "pygments_lexer": "ipython3",
   "version": "3.9.18"
  }
 },
 "nbformat": 4,
 "nbformat_minor": 2
}
